{
 "cells": [
  {
   "cell_type": "markdown",
   "id": "727f418c-795d-4411-9b43-697465a9601f",
   "metadata": {},
   "source": [
    "# Load, filter COVID Twitter data\n",
    "By keywords and media attachments"
   ]
  },
  {
   "cell_type": "code",
   "execution_count": 6,
   "id": "977bb429-417c-4b5d-9aa4-75942fb16ad3",
   "metadata": {
    "scrolled": true,
    "tags": []
   },
   "outputs": [
    {
     "name": "stdout",
     "output_type": "stream",
     "text": [
      "covid_20200602.json.gz\n"
     ]
    },
    {
     "data": {
      "application/vnd.jupyter.widget-view+json": {
       "model_id": "b3342613efae46f7aea2e85aafaad502",
       "version_major": 2,
       "version_minor": 0
      },
      "text/plain": [
       "  0%|          | 0/974483 [00:00<?, ?it/s]"
      ]
     },
     "metadata": {},
     "output_type": "display_data"
    },
    {
     "data": {
      "text/plain": [
       "31"
      ]
     },
     "execution_count": 6,
     "metadata": {},
     "output_type": "execute_result"
    }
   ],
   "source": [
    "import re\n",
    "\n",
    "terms_path = '../resources/antisemitic_terms.txt'\n",
    "with open(terms_path) as f:\n",
    "    search_terms = f.read().splitlines()\n",
    "pats = [re.compile(r'\\b{}\\b'.format(re.escape(term.lower()))) for term in search_terms]\n",
    "\n",
    "import pdb\n",
    "\n",
    "def select_tweet(tweet):\n",
    "    \"\"\" See if a tweet is worth keeping (matches enough criteria) \"\"\"\n",
    "    select = False\n",
    "    \n",
    "    # Basic cleaning\n",
    "    if len(tweet) == 1 and 'limit' in tweet:\n",
    "        return select\n",
    "    \n",
    "    # Language is English\n",
    "    if tweet['lang'] != 'en':\n",
    "        return select\n",
    "    \n",
    "    # Has media\n",
    "    if 'media' not in tweet['entities']:\n",
    "        return select\n",
    "    \n",
    "    # Contains possibly antisemitic terms\n",
    "    if 'extended_tweet' in tweet:\n",
    "        text = tweet['extended_tweet']['full_text'].lower()\n",
    "    else:\n",
    "        text = tweet['text'].lower()\n",
    "    for p in pats:\n",
    "        m = re.search(p, text)\n",
    "        # if any([re.search(p, tweet['extended_tweet']['full_text'].lower()) for p in pats]):\n",
    "        if m is not None:\n",
    "            select = m.group()\n",
    "            # tqdm.write('one selected')\n",
    "            \n",
    "    return select\n",
    "\n",
    "# Load COVID Twitter data (Carley lab)\n",
    "import os\n",
    "import gzip\n",
    "import json\n",
    "from tqdm.notebook import tqdm\n",
    "\n",
    "basepath = '/storage3/coronavirus/'\n",
    "\n",
    "# Older data\n",
    "dirname = 'json_keyword_stream'\n",
    "# Newer data\n",
    "dirname = 'json_keyword_stream_mike'\n",
    "selected = []\n",
    "n_selected = 0\n",
    "for fname in sorted([fname for fname in os.listdir(os.path.join(basepath, dirname)) if fname.endswith('.json.gz')])[:1]:\n",
    "    print(fname)\n",
    "    fpath = os.path.join(basepath, dirname, fname)\n",
    "    with gzip.open(fpath, 'rb') as f:\n",
    "        for i, line in tqdm(enumerate(f), total=9560357):\n",
    "            if len(line) == 1:\n",
    "                continue\n",
    "        # for i, line in tqdm(enumerate(f), total=974483, bar_format='selected: {postfix} | Elapsed: {elapsed} | {rate_fmt}', postfix=n_selected):\n",
    "            tweet = json.loads(line)\n",
    "            match = select_tweet(tweet)\n",
    "            if match:\n",
    "                tweet['search_match'] = match\n",
    "                selected.append(tweet)\n",
    "                n_selected += 1\n",
    "            # if i > 100:\n",
    "            #     break\n",
    "n_selected"
   ]
  },
  {
   "cell_type": "code",
   "execution_count": 8,
   "id": "4baeeaeb-0649-4b00-9b72-658840b49b2d",
   "metadata": {},
   "outputs": [
    {
     "data": {
      "text/plain": [
       "[re.compile(r'\\b\\(\\(\\(\\b', re.UNICODE),\n",
       " re.compile(r'\\b\\)\\)\\)\\b', re.UNICODE),\n",
       " re.compile(r'\\bjewish\\b', re.UNICODE),\n",
       " re.compile(r'\\bjew\\-ish\\b', re.UNICODE),\n",
       " re.compile(r'\\bglobalist\\b', re.UNICODE),\n",
       " re.compile(r'\\bjewish\\ lobby\\b', re.UNICODE),\n",
       " re.compile(r'\\bthe\\ lobby\\b', re.UNICODE),\n",
       " re.compile(r'\\bgeorge\\ soros\\b', re.UNICODE),\n",
       " re.compile(r'\\bvolodymyr\\ zelenskyy\\b', re.UNICODE),\n",
       " re.compile(r'\\bvladimir\\ zelensky\\b', re.UNICODE),\n",
       " re.compile(r'\\bjeffrey\\ epstein\\b', re.UNICODE),\n",
       " re.compile(r'\\bjared\\ kushner\\b', re.UNICODE),\n",
       " re.compile(r'\\brothschild\\b', re.UNICODE),\n",
       " re.compile(r'\\binternationalist\\b', re.UNICODE),\n",
       " re.compile(r'\\bbanker\\b', re.UNICODE),\n",
       " re.compile(r'\\bzio\\b', re.UNICODE),\n",
       " re.compile(r'\\bzionist\\b', re.UNICODE),\n",
       " re.compile(r'\\bzionazi\\b', re.UNICODE),\n",
       " re.compile(r'\\bzog\\b', re.UNICODE),\n",
       " re.compile(r'\\bcultural\\ marxism\\b', re.UNICODE),\n",
       " re.compile(r'\\bmarxist\\b', re.UNICODE),\n",
       " re.compile(r'\\bjudeo\\-bolshevism\\b', re.UNICODE),\n",
       " re.compile(r'\\bjudeo\\-bolshevist\\b', re.UNICODE),\n",
       " re.compile(r'\\bjudeo\\-communism\\b', re.UNICODE),\n",
       " re.compile(r'\\bjudeo\\ communist\\b', re.UNICODE),\n",
       " re.compile(r'\\bzydokomuna\\b', re.UNICODE),\n",
       " re.compile(r'\\bjudeo\\-masonism\\b', re.UNICODE),\n",
       " re.compile(r'\\billuminati\\b', re.UNICODE),\n",
       " re.compile(r'\\bpizzagate\\b', re.UNICODE),\n",
       " re.compile(r'\\bmedia\\ control\\b', re.UNICODE),\n",
       " re.compile(r'\\bliberal\\ media\\b', re.UNICODE),\n",
       " re.compile(r'\\bcosmopolitans\\b', re.UNICODE),\n",
       " re.compile(r'\\bwhite\\ genocide\\b', re.UNICODE),\n",
       " re.compile(r'\\breplacement\\b', re.UNICODE),\n",
       " re.compile(r'\\bjews\\ will\\ not\\ replace\\ us\\b', re.UNICODE),\n",
       " re.compile(r'\\bfranklin\\ conspiracy\\b', re.UNICODE),\n",
       " re.compile(r'\\bfranklin\\ forgery\\b', re.UNICODE),\n",
       " re.compile(r'\\belders\\ of\\ zion\\b', re.UNICODE),\n",
       " re.compile(r'\\bgoy\\b', re.UNICODE),\n",
       " re.compile(r'\\bgoyim\\b', re.UNICODE),\n",
       " re.compile(r'\\bfgrn\\b', re.UNICODE),\n",
       " re.compile(r'\\bfor\\ god,\\ race,\\ and\\ nation\\b', re.UNICODE),\n",
       " re.compile(r'\\bgorrillion\\b', re.UNICODE),\n",
       " re.compile(r'\\bgtkrwn\\b', re.UNICODE),\n",
       " re.compile(r'\\brwn\\b', re.UNICODE),\n",
       " re.compile(r'\\bgtk\\b', re.UNICODE),\n",
       " re.compile(r'\\bholohoax\\b', re.UNICODE),\n",
       " re.compile(r'\\biotbw\\b', re.UNICODE),\n",
       " re.compile(r'\\bisrael\\b', re.UNICODE),\n",
       " re.compile(r'\\bisrahell\\b', re.UNICODE),\n",
       " re.compile(r'\\bjwoke\\b', re.UNICODE),\n",
       " re.compile(r'\\bjew\\ coup\\b', re.UNICODE),\n",
       " re.compile(r'\\bjewish\\ cabal\\b', re.UNICODE),\n",
       " re.compile(r'\\bnorthwest\\ imperative\\b', re.UNICODE),\n",
       " re.compile(r'\\bnorthwest\\ revolution\\b', re.UNICODE),\n",
       " re.compile(r'\\brace\\ war\\b', re.UNICODE),\n",
       " re.compile(r'\\banti\\-racist\\ is\\ code\\ for\\ anti\\-white\\b', re.UNICODE),\n",
       " re.compile(r'\\bhail\\ victory\\b', re.UNICODE),\n",
       " re.compile(r'\\bsieg\\ heil\\b', re.UNICODE),\n",
       " re.compile(r'\\bsiege\\ pill\\b', re.UNICODE),\n",
       " re.compile(r'\\bshekel\\b', re.UNICODE),\n",
       " re.compile(r'\\bshekelcollector\\b', re.UNICODE),\n",
       " re.compile(r'\\bred\\ pill\\b', re.UNICODE),\n",
       " re.compile(r'\\bannuda\\ shoah\\b', re.UNICODE),\n",
       " re.compile(r'\\bwp\\b', re.UNICODE),\n",
       " re.compile(r'\\b14\\ words\\b', re.UNICODE),\n",
       " re.compile(r'\\b14/23\\b', re.UNICODE),\n",
       " re.compile(r'\\b1488\\b', re.UNICODE),\n",
       " re.compile(r'\\b8814\\b', re.UNICODE),\n",
       " re.compile(r'\\bhh\\b', re.UNICODE),\n",
       " re.compile(r'\\b88\\b', re.UNICODE),\n",
       " re.compile(r'\\b6mwe\\b', re.UNICODE),\n",
       " re.compile(r'\\brace\\ traitor\\b', re.UNICODE),\n",
       " re.compile(r'\\bblood\\ and\\ soil\\b', re.UNICODE),\n",
       " re.compile(r'\\bscrew\\ your\\ optics\\b', re.UNICODE),\n",
       " re.compile(r'\\b4/20\\b', re.UNICODE),\n",
       " re.compile(r'\\b420\\b', re.UNICODE),\n",
       " re.compile(r'\\bjq\\b', re.UNICODE),\n",
       " re.compile(r'\\bjewish\\ question\\b', re.UNICODE)]"
      ]
     },
     "execution_count": 8,
     "metadata": {},
     "output_type": "execute_result"
    }
   ],
   "source": [
    "pats"
   ]
  },
  {
   "cell_type": "code",
   "execution_count": 11,
   "id": "7e7211dd-04b6-48b8-945a-1869ac3bf54f",
   "metadata": {},
   "outputs": [
    {
     "name": "stdout",
     "output_type": "stream",
     "text": [
      "None\n"
     ]
    }
   ],
   "source": [
    "pat = re.compile(r'\\b88\\b', re.UNICODE)\n",
    "print(re.search(pat, 'https://t.co/FC88v4dWnc'))"
   ]
  },
  {
   "cell_type": "code",
   "execution_count": 7,
   "id": "37b9eb77-12e3-4403-99be-6d7c6d5c8099",
   "metadata": {},
   "outputs": [
    {
     "data": {
      "text/plain": [
       "31"
      ]
     },
     "execution_count": 7,
     "metadata": {},
     "output_type": "execute_result"
    }
   ],
   "source": [
    "n_selected"
   ]
  },
  {
   "cell_type": "code",
   "execution_count": 4,
   "id": "04698db0-08b4-4f8d-80a2-05d36b4710ad",
   "metadata": {},
   "outputs": [
    {
     "data": {
      "text/plain": [
       "[('israel', 26)]"
      ]
     },
     "execution_count": 4,
     "metadata": {},
     "output_type": "execute_result"
    }
   ],
   "source": [
    "from collections import Counter\n",
    "\n",
    "Counter([select['search_match'] for select in selected]).most_common()"
   ]
  },
  {
   "cell_type": "code",
   "execution_count": 8,
   "id": "d6cca0d9-145c-4b6e-a27a-dcf319a82192",
   "metadata": {},
   "outputs": [],
   "source": [
    "# Save out selected\n",
    "outpath = os.path.join('../output', f'{fname.split(\".\")[0]}.jsonl')\n",
    "with open(outpath, 'w') as f:\n",
    "    f.write('\\n'.join([json.dumps(tweet) for tweet in selected]))"
   ]
  },
  {
   "cell_type": "code",
   "execution_count": 13,
   "id": "385daefc-5e80-4089-91ea-d9b247ab514b",
   "metadata": {},
   "outputs": [
    {
     "data": {
      "text/plain": [
       "648"
      ]
     },
     "execution_count": 13,
     "metadata": {},
     "output_type": "execute_result"
    }
   ],
   "source": [
    "no_media = [select for select in selected if 'media' not in select['entities']]\n",
    "len(no_media)"
   ]
  },
  {
   "cell_type": "code",
   "execution_count": 15,
   "id": "a127b321-a774-41e1-9c86-19feffa05887",
   "metadata": {},
   "outputs": [
    {
     "data": {
      "text/plain": [
       "{'hashtags': [],\n",
       " 'urls': [{'url': 'https://t.co/7oecmaPjY2',\n",
       "   'expanded_url': 'https://twitter.com/i/web/status/1222538649788649472',\n",
       "   'display_url': 'twitter.com/i/web/status/1…',\n",
       "   'indices': [117, 140]}],\n",
       " 'user_mentions': [{'screen_name': 'ScottAdamsSays',\n",
       "   'name': 'Scott Adams',\n",
       "   'id': 2853461537,\n",
       "   'id_str': '2853461537',\n",
       "   'indices': [6, 21]}],\n",
       " 'symbols': []}"
      ]
     },
     "execution_count": 15,
     "metadata": {},
     "output_type": "execute_result"
    }
   ],
   "source": [
    "no_media[0]['entities']"
   ]
  },
  {
   "cell_type": "code",
   "execution_count": 23,
   "id": "a9daf7a5-277e-474a-bb76-9c6891127e40",
   "metadata": {},
   "outputs": [
    {
     "name": "stdout",
     "output_type": "stream",
     "text": [
      "one selected\n"
     ]
    },
    {
     "data": {
      "text/plain": [
       "True"
      ]
     },
     "execution_count": 23,
     "metadata": {},
     "output_type": "execute_result"
    }
   ],
   "source": [
    "test_tweet = {'lang': 'en', 'text': 'goyim'}\n",
    "select_tweet(test_tweet)"
   ]
  },
  {
   "cell_type": "markdown",
   "id": "d911c2b0-11a1-4e41-8bd9-2422df9281e4",
   "metadata": {},
   "source": [
    "## Process selected output tweets to CSV"
   ]
  },
  {
   "cell_type": "code",
   "execution_count": 13,
   "id": "9f50f01d-cfff-492d-ae2f-6f3265ac3dc7",
   "metadata": {},
   "outputs": [
    {
     "data": {
      "application/vnd.jupyter.widget-view+json": {
       "model_id": "77918a17a0054ea7b982004a97b446d0",
       "version_major": 2,
       "version_minor": 0
      },
      "text/plain": [
       "  0%|          | 0/47 [00:00<?, ?it/s]"
      ]
     },
     "metadata": {},
     "output_type": "display_data"
    },
    {
     "data": {
      "text/plain": [
       "(4347, 349)"
      ]
     },
     "execution_count": 13,
     "metadata": {},
     "output_type": "execute_result"
    }
   ],
   "source": [
    "# Load filtered tweets\n",
    "import os\n",
    "import json\n",
    "from tqdm.notebook import tqdm\n",
    "\n",
    "dirpath = '../output/'\n",
    "dfs = []\n",
    "for fname in tqdm(sorted(os.listdir(dirpath))):\n",
    "    fpath = os.path.join(dirpath, fname)\n",
    "    with open(fpath) as f:\n",
    "        dfs.append(pd.json_normalize([json.loads(line) for line in f.read().splitlines()]))\n",
    "out_df = pd.concat(dfs)\n",
    "out_df.shape\n",
    "\n",
    "# TODO: Don't concatenate, just save out CSVs for every file"
   ]
  },
  {
   "cell_type": "code",
   "execution_count": 14,
   "id": "2429e1ce-bf1a-479b-864c-ef190026bd6b",
   "metadata": {},
   "outputs": [],
   "source": [
    "outpath = os.path.join(dirpath, 'filtered_covid_tweets.csv')\n",
    "out_df.to_csv(outpath)"
   ]
  }
 ],
 "metadata": {
  "kernelspec": {
   "display_name": "Python 3 (ipykernel)",
   "language": "python",
   "name": "python3"
  },
  "language_info": {
   "codemirror_mode": {
    "name": "ipython",
    "version": 3
   },
   "file_extension": ".py",
   "mimetype": "text/x-python",
   "name": "python",
   "nbconvert_exporter": "python",
   "pygments_lexer": "ipython3",
   "version": "3.9.12"
  }
 },
 "nbformat": 4,
 "nbformat_minor": 5
}
