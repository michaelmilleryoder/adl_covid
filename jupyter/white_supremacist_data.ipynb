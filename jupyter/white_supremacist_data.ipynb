{
 "cells": [
  {
   "cell_type": "markdown",
   "id": "c5a35ba4-6c7a-4701-9664-d3a80ba9bf97",
   "metadata": {},
   "source": [
    "# Label white supremacist data as in-group/outward-facing communication"
   ]
  },
  {
   "cell_type": "code",
   "execution_count": 1,
   "id": "2b3d8f0a-0906-4698-9398-de69d4b15e1d",
   "metadata": {},
   "outputs": [],
   "source": [
    "# Load full white supremacist corpus\n",
    "import pandas as pd\n",
    "\n",
    "# path = '/home/mamille3/white_supremacist_lang/data/corpora/white_supremacist_corpus.json'\n",
    "path = '/home/mamille3/white_supremacist_lang/tmp/white_supremacist_corpus.pkl'\n",
    "data = pd.read_pickle(path)\n",
    "data.info()"
   ]
  },
  {
   "cell_type": "code",
   "execution_count": 5,
   "id": "9b41bc73-39c6-412b-aca3-d5868174e5f6",
   "metadata": {},
   "outputs": [
    {
     "name": "stdout",
     "output_type": "stream",
     "text": [
      "<class 'pandas.core.frame.DataFrame'>\n",
      "Index: 4371453 entries, rieger2021_white_supremacist_164 to siegel2021_white_supremacist_3932\n",
      "Data columns (total 8 columns):\n",
      " #   Column      Dtype              \n",
      "---  ------      -----              \n",
      " 0   text        object             \n",
      " 1   word_count  int64              \n",
      " 2   dataset     object             \n",
      " 3   source      object             \n",
      " 4   domain      object             \n",
      " 5   label       float64            \n",
      " 6   timestamp   datetime64[ns, UTC]\n",
      " 7   audience    object             \n",
      "dtypes: datetime64[ns, UTC](1), float64(1), int64(1), object(5)\n",
      "memory usage: 300.2+ MB\n"
     ]
    }
   ],
   "source": [
    "data.info()"
   ]
  },
  {
   "cell_type": "code",
   "execution_count": 2,
   "id": "87bc9e5a-60eb-4092-a6f8-f08f59702485",
   "metadata": {},
   "outputs": [
    {
     "data": {
      "text/plain": [
       "domain              source                          \n",
       "forum               4chan                               3265014\n",
       "                    stormfront                           751980\n",
       "                    ironmarch                            179468\n",
       "tweet               twitter                               90308\n",
       "chat                discord                               39577\n",
       "long-form           daily_stormer                         26009\n",
       "                    breivik_manifesto                     15546\n",
       "offline_propaganda  adl_heatmap                            1819\n",
       "long-form           raspail_camp_of_the_saints_book        1220\n",
       "forum               8chan                                   259\n",
       "long-form           camus_the_great_replacement_book        161\n",
       "                    powell_rivers_of_blood_speech            47\n",
       "                    lane_white_genocide_manifesto            33\n",
       "forum               reddit                                   12\n",
       "dtype: int64"
      ]
     },
     "execution_count": 2,
     "metadata": {},
     "output_type": "execute_result"
    }
   ],
   "source": [
    "data[['domain', 'source']].value_counts()"
   ]
  },
  {
   "cell_type": "code",
   "execution_count": 3,
   "id": "0a7e5a70-4c9c-4498-9e78-17eb8e83154f",
   "metadata": {},
   "outputs": [],
   "source": [
    "# Label domains as ingroup/outward\n",
    "domain_labels = {\n",
    "    'tweet': 'outward',\n",
    "    'chat': 'ingroup',\n",
    "    'forum': 'ingroup', # debatable\n",
    "    'long-form': 'outward', # debatable\n",
    "    'offline_propaganda': 'outward',\n",
    "}"
   ]
  },
  {
   "cell_type": "code",
   "execution_count": 4,
   "id": "96335ecc-6cea-47cf-acba-96a94b553bab",
   "metadata": {},
   "outputs": [
    {
     "data": {
      "text/plain": [
       "ingroup    4236310\n",
       "outward     135143\n",
       "Name: audience, dtype: int64"
      ]
     },
     "execution_count": 4,
     "metadata": {},
     "output_type": "execute_result"
    }
   ],
   "source": [
    "data['audience'] = data['domain'].map(domain_labels)\n",
    "data.audience.value_counts()"
   ]
  },
  {
   "cell_type": "code",
   "execution_count": 6,
   "id": "d9a9a8d4-acc0-4e44-a239-f28b4b619c5d",
   "metadata": {},
   "outputs": [],
   "source": [
    "# Save out\n",
    "data.to_pickle('../data/white_supremacist_corpus.pkl')\n",
    "data.to_json('../data/white_supremacist_corpus.json', orient='table', indent=4)"
   ]
  }
 ],
 "metadata": {
  "kernelspec": {
   "display_name": "Python 3 (ipykernel)",
   "language": "python",
   "name": "python3"
  },
  "language_info": {
   "codemirror_mode": {
    "name": "ipython",
    "version": 3
   },
   "file_extension": ".py",
   "mimetype": "text/x-python",
   "name": "python",
   "nbconvert_exporter": "python",
   "pygments_lexer": "ipython3",
   "version": "3.9.12"
  }
 },
 "nbformat": 4,
 "nbformat_minor": 5
}
